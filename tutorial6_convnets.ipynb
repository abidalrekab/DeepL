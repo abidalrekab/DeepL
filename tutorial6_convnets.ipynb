{
  "nbformat": 4,
  "nbformat_minor": 0,
  "metadata": {
    "colab": {
      "name": "tutorial6-convnets.ipynb",
      "version": "0.3.2",
      "provenance": [],
      "collapsed_sections": [],
      "include_colab_link": true
    },
    "kernelspec": {
      "name": "python3",
      "display_name": "Python 3"
    },
    "accelerator": "GPU"
  },
  "cells": [
    {
      "cell_type": "markdown",
      "metadata": {
        "id": "view-in-github",
        "colab_type": "text"
      },
      "source": [
        "<a href=\"https://colab.research.google.com/github/abidalrekab/DeepL/blob/master/tutorial6_convnets.ipynb\" target=\"_parent\"><img src=\"https://colab.research.google.com/assets/colab-badge.svg\" alt=\"Open In Colab\"/></a>"
      ]
    },
    {
      "cell_type": "markdown",
      "metadata": {
        "id": "eFYFac2yNGez",
        "colab_type": "text"
      },
      "source": [
        "## Convolutional Neural Networks\n",
        "In this exercise you will:\n",
        "1. Complete the design of a convolutional neural network similar to the classic LeNet from http://yann.lecun.com/exdb/publis/pdf/lecun-01a.pdf .\n",
        "2. Use cross-validation to determine the optimal number of filters/activation maps per layer."
      ]
    },
    {
      "cell_type": "markdown",
      "metadata": {
        "id": "xzrOhhrDN_g_",
        "colab_type": "text"
      },
      "source": [
        "This model will train best on a GPU.  Google Colab is <b>highly recommended</b>.  See our Slack #homework channel for how to enable the GPU runtime on Colab.    \n",
        "\n",
        "Let's get started.  Note the use of PyTorch dataset samplers.  You'll want to familiarize yourself with them by reading the docs: https://pytorch.org/docs/stable/data.html."
      ]
    },
    {
      "cell_type": "markdown",
      "metadata": {
        "id": "ERrGJ3jxQpsM",
        "colab_type": "text"
      },
      "source": [
        "<b>Important Note</b>:  Consider this notebook 'starter code'.  You will need to extend it, alter it, and in some cases replace it.  Please write whatever code you need to in order to correctly solve the problem!"
      ]
    },
    {
      "cell_type": "code",
      "metadata": {
        "id": "eFphj-TzLL9E",
        "colab_type": "code",
        "colab": {
          "base_uri": "https://localhost:8080/",
          "height": 35
        },
        "outputId": "c776c29e-c681-4254-d6bd-dbac6f33b866"
      },
      "source": [
        "import torch\n",
        "import torch.nn as nn\n",
        "import torch.optim as optim\n",
        "import torchvision.datasets as dsets\n",
        "import torchvision.transforms as transforms\n",
        "from torch.utils.data.sampler import SequentialSampler\n",
        "device = torch.device(\"cuda:0\" if torch.cuda.is_available() else \"cpu\")\n",
        "# Assuming that we are on a CUDA machine, this should print a CUDA device:\n",
        "print(device)\n",
        "import numpy as np\n",
        "import matplotlib.pyplot as plt"
      ],
      "execution_count": 94,
      "outputs": [
        {
          "output_type": "stream",
          "text": [
            "cuda:0\n"
          ],
          "name": "stdout"
        }
      ]
    },
    {
      "cell_type": "markdown",
      "metadata": {
        "id": "AKwloNzlPfi8",
        "colab_type": "text"
      },
      "source": [
        "Note the 2-D input_size.  We are preparing to read the MNIST dataset and resizing the images to 32x32 pixels with zero padding includes.  They are grayscale already, so the input will be 32x32x1."
      ]
    },
    {
      "cell_type": "code",
      "metadata": {
        "id": "JZnh3mfSNV2J",
        "colab_type": "code",
        "colab": {}
      },
      "source": [
        "# Hyper Parameters \n",
        "input_size = (32, 32)\n",
        "num_classes = 10\n",
        "num_epochs = 25\n",
        "batch_size_train = 256\n",
        "batch_size_val = 256\n",
        "batch_size_test = 1024\n",
        "learning_rate = 2e-3\n",
        "num_folds = 6  # V-fold cross validation!\n",
        "v = 1  # The filter hyperparameter.  The number of activation maps is dependent.\n",
        "torch.set_printoptions(threshold=1000)"
      ],
      "execution_count": 0,
      "outputs": []
    },
    {
      "cell_type": "markdown",
      "metadata": {
        "id": "IoI3ercORU1T",
        "colab_type": "text"
      },
      "source": [
        "This initially downloads two datasets, one for training and validation (called train_dataset) and one for test.  You will eventually need to split the training data into training and validation sets."
      ]
    },
    {
      "cell_type": "code",
      "metadata": {
        "id": "UjvAEX-WLvzO",
        "colab_type": "code",
        "colab": {}
      },
      "source": [
        "# Load image data and transform images to 32x32x1\n",
        "train_dataset = dsets.MNIST(root='./data',\n",
        "                         train=True,\n",
        "                         transform=transforms.Compose([\n",
        "                             transforms.Resize(input_size),\n",
        "                             transforms.ToTensor()]),\n",
        "                         download=True)\n",
        "test_dataset = dsets.MNIST('./data',\n",
        "                        train=False,\n",
        "                        transform=transforms.Compose([\n",
        "                            transforms.Resize(input_size),\n",
        "                            transforms.ToTensor()]),\n",
        "                        download=True)"
      ],
      "execution_count": 0,
      "outputs": []
    },
    {
      "cell_type": "code",
      "metadata": {
        "id": "UMMlJI8hNVBD",
        "colab_type": "code",
        "colab": {}
      },
      "source": [
        "# Dataset loaders (handle mini-batching of data) \n",
        "train_loader = torch.utils.data.DataLoader(dataset=train_dataset, batch_size=batch_size_train, shuffle=True) \n",
        "test_loader = torch.utils.data.DataLoader(dataset=test_dataset, batch_size=batch_size_test, shuffle=False)"
      ],
      "execution_count": 0,
      "outputs": []
    },
    {
      "cell_type": "markdown",
      "metadata": {
        "id": "GXA3Fe_g42M_",
        "colab_type": "text"
      },
      "source": [
        "Here is a CNN model architecture, missing some layers.  See the problem statement for guidance on how to complete it."
      ]
    },
    {
      "cell_type": "code",
      "metadata": {
        "id": "Y78iY-1lQfdT",
        "colab_type": "code",
        "colab": {}
      },
      "source": [
        "class LeNet5(nn.Module):\n",
        "    # A version of LeNet-5.  Note the hyperparameter 'v' (n^v activation maps).\n",
        "    def __init__(self, v=0):\n",
        "        super(LeNet5, self).__init__()\n",
        "        # 1 image input channel, 6 filters, 5x5 kernel\n",
        "        self.convnet = nn.Sequential(\n",
        "            nn.Conv2d(1, 2**v, kernel_size=(5, 5)),                        # c1\n",
        "            nn.ReLU(),  # relu1\n",
        "            nn.MaxPool2d(kernel_size=(2, 2), stride=2),                    # s2\n",
        "            nn.Conv2d(2**v, 3**v, kernel_size=(5, 5)),                     # c3\n",
        "            nn.ReLU(),  # relu3\n",
        "            nn.MaxPool2d(kernel_size=(2, 2), stride=2),                    # s4\n",
        "            nn.Conv2d(3**v, 5**v, kernel_size=(5, 5),stride = 1),          # c5\n",
        "            nn.ReLU()                                                    # relu5\n",
        "           \n",
        "        )\n",
        "\n",
        "        self.fc = nn.Sequential(\n",
        "            nn.Linear(5**v, 84),                                  #f6\n",
        "            nn.ReLU(),                                                    # relu5\n",
        "            nn.Linear(84, 10)                                               #f7\n",
        "    \n",
        "        )\n",
        "        \n",
        "    def forward(self, input):\n",
        "        convout = self.convnet(input)\n",
        "        convout = convout.view(input.size(0), -1)\n",
        "        output = self.fc(convout)\n",
        "        return output\n",
        "        "
      ],
      "execution_count": 0,
      "outputs": []
    },
    {
      "cell_type": "markdown",
      "metadata": {
        "id": "YH8eRsX25g21",
        "colab_type": "text"
      },
      "source": [
        "The followign function will train the model for a single epoch and report the training loss."
      ]
    },
    {
      "cell_type": "code",
      "metadata": {
        "id": "ku8iA2cdbduQ",
        "colab_type": "code",
        "colab": {}
      },
      "source": [
        "def train_one_epoch(epoch_num):\n",
        "    for i, (images, labels) in enumerate(train_loader):\n",
        "        images = images.to(device)\n",
        "        labels = labels.to(device)\n",
        "        # Forward pass\n",
        "        optimizer.zero_grad() \n",
        "        outputs = model(images) \n",
        "        loss = criterion(outputs, labels)\n",
        "        # Backward pass\n",
        "        loss.backward()\n",
        "        # Optimize\n",
        "        optimizer.step()\n",
        "        if (i + 1) % 10 == 0:\n",
        "            print('Epoch: [% d/% d], Step: [% d/% d], Loss: %.4f'\n",
        "                  % (epoch_num + 1, num_epochs, i + 1,\n",
        "                     len(train_dataset) // batch_size_train, loss.item())) "
      ],
      "execution_count": 0,
      "outputs": []
    },
    {
      "cell_type": "markdown",
      "metadata": {
        "id": "_uRXmaKj5vst",
        "colab_type": "text"
      },
      "source": [
        "The following functions are provided for your convenience.  They compute the error and accuracy of all data supplied  via a loader."
      ]
    },
    {
      "cell_type": "code",
      "metadata": {
        "id": "o-7_tFN7mbOt",
        "colab_type": "code",
        "colab": {}
      },
      "source": [
        "def epoch_error(loader, length, split='validation'):\n",
        "    \"\"\" Computes the loss for all data points in a loader.\n",
        "       \n",
        "        Inputs:\n",
        "            loader: Pytorch data loader (object)\n",
        "            length: Number of data points (integer)\n",
        "            split: Name of split, typically 'train', 'test', or 'validation' (string)\n",
        "        \n",
        "        Returns:\n",
        "            loss (floating point)\n",
        "    \"\"\"\n",
        "    model.eval()\n",
        "    # Measure the error for the entire loader split.\n",
        "    i = 0\n",
        "    loss = 0.\n",
        "    num_batches = 0\n",
        "    for images, labels in loader:  # One batch at a time!\n",
        "        images = images.to(device)\n",
        "        labels = labels.to(device)\n",
        "        outputs = model(images)\n",
        "        loss += criterion(outputs, labels).item()\n",
        "        # print(f'Batch loss is {criterion(outputs, labels)}')\n",
        "        num_batches += 1\n",
        "\n",
        "    print(f'Error of the model on the {length} {split} images: {loss / num_batches: .6f}')\n",
        "    return loss / num_batches"
      ],
      "execution_count": 0,
      "outputs": []
    },
    {
      "cell_type": "code",
      "metadata": {
        "id": "MuuhGQZKdi7B",
        "colab_type": "code",
        "colab": {}
      },
      "source": [
        "def epoch_accuracy(loader, dataset, split='train'):\n",
        "    model.eval()\n",
        "    # Measure the accuracy for the entire test dataset \n",
        "    correct = 0\n",
        "    total = 0\n",
        "    for images, labels in loader:\n",
        "        images = images.to(device)\n",
        "        labels = labels.to(device)\n",
        "        outputs = model(images) \n",
        "        _, predicted = torch.max(outputs.data, 1) \n",
        "        total += labels.size(0) \n",
        "        correct += (predicted == labels).sum()\n",
        "        acc = float(correct) / total\n",
        "    print(f'Accuracy of the model on the {len(dataset)} {split} images: {float(correct) / total:3.1%}') \n",
        "    return acc"
      ],
      "execution_count": 0,
      "outputs": []
    },
    {
      "cell_type": "markdown",
      "metadata": {
        "id": "dFrwsRx56I9r",
        "colab_type": "text"
      },
      "source": [
        "This procedure will initialize the model and run a training loop.  You will eventually need to implement it within a cross validation loop."
      ]
    },
    {
      "cell_type": "markdown",
      "metadata": {
        "id": "rDHcLUbL5GTy",
        "colab_type": "text"
      },
      "source": [
        "This is a 10-class classification problem.  We will use the popular Adam optimizer.  More about Adam here: https://towardsdatascience.com/adam-latest-trends-in-deep-learning-optimization-6be9a291375c."
      ]
    },
    {
      "cell_type": "code",
      "metadata": {
        "id": "Fs9C8jGYuVSB",
        "colab_type": "code",
        "colab": {}
      },
      "source": [
        "acc_train = np.array(np.zeros((num_epochs)))\n",
        "acc_test = np.array(np.zeros((num_epochs)))\n",
        "def run_training():\n",
        "    # Re-initialize model and optimizer!\n",
        "    global model, criterion, optimizer, v, acc\n",
        "    model = LeNet5(v).to(device)\n",
        "    criterion = nn.CrossEntropyLoss()\n",
        "    optimizer = optim.Adam(model.parameters(), lr=learning_rate)\n",
        "    for epoch in range(num_epochs):\n",
        "        train_one_epoch(epoch)\n",
        "        acc_train[epoch] = epoch_accuracy(test_loader, test_dataset, 'test')\n",
        "        acc_test[epoch] = epoch_accuracy(train_loader, train_dataset, 'train')"
      ],
      "execution_count": 0,
      "outputs": []
    },
    {
      "cell_type": "markdown",
      "metadata": {
        "id": "42NesFlBel8R",
        "colab_type": "text"
      },
      "source": [
        "<b>Problem 5(a): </b>  Complete the convolutional neural network and verify it trains.\n",
        "1.  Add a 3rd convolutional layer.  The layer should have ```5**v``` activation maps (filter sets), where ```v``` is an integer.  Use a 5x5 filter (kernel) and a stride of 1.  This layer will follow s4 and be called c5.  Use a ReLU activation function.  This will be called relu5.\n",
        "2.  Add the fully connected layers for cross entropy classification.  Implement two nn.Linear layers: f6 and f7, with a ReLU activation for f6 (called relu6).  f7 is the output and should not have a non-linear activation since that will be handled by nn.CrossEntropyLoss().  f6 should have ```5**v``` inputs and 84 outputs.  f7 should have 10 outputs for the 10 classes of the classifier.\n",
        "3.  Show your new model code (above, where originally implemented in the starter code) and verify that it trains.  Set hyperparameter ```v = 1``` and training the model on all of the training data (60,000 images) for 10 epochs.  Report the training and test (10,000 images) accuracy.\n",
        "4.  With ```v = 1```, is this model high bias, high variance, or both?  Assume we should be able to exceed 99% accuracy on this task.  Explain using your training and test accuracy."
      ]
    },
    {
      "cell_type": "code",
      "metadata": {
        "id": "UwmihiACh-ge",
        "colab_type": "code",
        "colab": {
          "base_uri": "https://localhost:8080/",
          "height": 10851
        },
        "outputId": "0462120d-f44c-4bc0-9c9f-ab1842340f73"
      },
      "source": [
        "# Your results here.\n",
        "run_training()"
      ],
      "execution_count": 103,
      "outputs": [
        {
          "output_type": "stream",
          "text": [
            "Epoch: [ 1/ 25], Step: [ 10/ 234], Loss: 2.2953\n",
            "Epoch: [ 1/ 25], Step: [ 20/ 234], Loss: 2.2985\n",
            "Epoch: [ 1/ 25], Step: [ 30/ 234], Loss: 2.2625\n",
            "Epoch: [ 1/ 25], Step: [ 40/ 234], Loss: 2.1622\n",
            "Epoch: [ 1/ 25], Step: [ 50/ 234], Loss: 1.8744\n",
            "Epoch: [ 1/ 25], Step: [ 60/ 234], Loss: 1.4862\n",
            "Epoch: [ 1/ 25], Step: [ 70/ 234], Loss: 1.3509\n",
            "Epoch: [ 1/ 25], Step: [ 80/ 234], Loss: 1.0721\n",
            "Epoch: [ 1/ 25], Step: [ 90/ 234], Loss: 1.0562\n",
            "Epoch: [ 1/ 25], Step: [ 100/ 234], Loss: 1.0341\n",
            "Epoch: [ 1/ 25], Step: [ 110/ 234], Loss: 1.1090\n",
            "Epoch: [ 1/ 25], Step: [ 120/ 234], Loss: 0.8720\n",
            "Epoch: [ 1/ 25], Step: [ 130/ 234], Loss: 0.8693\n",
            "Epoch: [ 1/ 25], Step: [ 140/ 234], Loss: 0.9400\n",
            "Epoch: [ 1/ 25], Step: [ 150/ 234], Loss: 0.8770\n",
            "Epoch: [ 1/ 25], Step: [ 160/ 234], Loss: 0.8682\n",
            "Epoch: [ 1/ 25], Step: [ 170/ 234], Loss: 0.8766\n",
            "Epoch: [ 1/ 25], Step: [ 180/ 234], Loss: 0.9156\n",
            "Epoch: [ 1/ 25], Step: [ 190/ 234], Loss: 0.9314\n",
            "Epoch: [ 1/ 25], Step: [ 200/ 234], Loss: 0.7440\n",
            "Epoch: [ 1/ 25], Step: [ 210/ 234], Loss: 0.7095\n",
            "Epoch: [ 1/ 25], Step: [ 220/ 234], Loss: 0.7325\n",
            "Epoch: [ 1/ 25], Step: [ 230/ 234], Loss: 0.8096\n",
            "Accuracy of the model on the 10000 test images: 73.4%\n",
            "Accuracy of the model on the 60000 train images: 73.4%\n",
            "Epoch: [ 2/ 25], Step: [ 10/ 234], Loss: 0.8770\n",
            "Epoch: [ 2/ 25], Step: [ 20/ 234], Loss: 0.8358\n",
            "Epoch: [ 2/ 25], Step: [ 30/ 234], Loss: 0.7815\n",
            "Epoch: [ 2/ 25], Step: [ 40/ 234], Loss: 0.7677\n",
            "Epoch: [ 2/ 25], Step: [ 50/ 234], Loss: 0.8188\n",
            "Epoch: [ 2/ 25], Step: [ 60/ 234], Loss: 0.6304\n",
            "Epoch: [ 2/ 25], Step: [ 70/ 234], Loss: 0.8094\n",
            "Epoch: [ 2/ 25], Step: [ 80/ 234], Loss: 0.7296\n",
            "Epoch: [ 2/ 25], Step: [ 90/ 234], Loss: 0.7540\n",
            "Epoch: [ 2/ 25], Step: [ 100/ 234], Loss: 0.6868\n",
            "Epoch: [ 2/ 25], Step: [ 110/ 234], Loss: 0.5617\n",
            "Epoch: [ 2/ 25], Step: [ 120/ 234], Loss: 0.6608\n",
            "Epoch: [ 2/ 25], Step: [ 130/ 234], Loss: 0.5934\n",
            "Epoch: [ 2/ 25], Step: [ 140/ 234], Loss: 0.6932\n",
            "Epoch: [ 2/ 25], Step: [ 150/ 234], Loss: 0.7172\n",
            "Epoch: [ 2/ 25], Step: [ 160/ 234], Loss: 0.7459\n",
            "Epoch: [ 2/ 25], Step: [ 170/ 234], Loss: 0.5929\n",
            "Epoch: [ 2/ 25], Step: [ 180/ 234], Loss: 0.7073\n",
            "Epoch: [ 2/ 25], Step: [ 190/ 234], Loss: 0.6238\n",
            "Epoch: [ 2/ 25], Step: [ 200/ 234], Loss: 0.6592\n",
            "Epoch: [ 2/ 25], Step: [ 210/ 234], Loss: 0.5667\n",
            "Epoch: [ 2/ 25], Step: [ 220/ 234], Loss: 0.6583\n",
            "Epoch: [ 2/ 25], Step: [ 230/ 234], Loss: 0.7724\n",
            "Accuracy of the model on the 10000 test images: 78.6%\n",
            "Accuracy of the model on the 60000 train images: 78.2%\n",
            "Epoch: [ 3/ 25], Step: [ 10/ 234], Loss: 0.6005\n",
            "Epoch: [ 3/ 25], Step: [ 20/ 234], Loss: 0.6162\n",
            "Epoch: [ 3/ 25], Step: [ 30/ 234], Loss: 0.6483\n",
            "Epoch: [ 3/ 25], Step: [ 40/ 234], Loss: 0.6794\n",
            "Epoch: [ 3/ 25], Step: [ 50/ 234], Loss: 0.5345\n",
            "Epoch: [ 3/ 25], Step: [ 60/ 234], Loss: 0.6071\n",
            "Epoch: [ 3/ 25], Step: [ 70/ 234], Loss: 0.5597\n",
            "Epoch: [ 3/ 25], Step: [ 80/ 234], Loss: 0.6156\n",
            "Epoch: [ 3/ 25], Step: [ 90/ 234], Loss: 0.6325\n",
            "Epoch: [ 3/ 25], Step: [ 100/ 234], Loss: 0.5478\n",
            "Epoch: [ 3/ 25], Step: [ 110/ 234], Loss: 0.6622\n",
            "Epoch: [ 3/ 25], Step: [ 120/ 234], Loss: 0.5113\n",
            "Epoch: [ 3/ 25], Step: [ 130/ 234], Loss: 0.5646\n",
            "Epoch: [ 3/ 25], Step: [ 140/ 234], Loss: 0.7491\n",
            "Epoch: [ 3/ 25], Step: [ 150/ 234], Loss: 0.5266\n",
            "Epoch: [ 3/ 25], Step: [ 160/ 234], Loss: 0.5931\n",
            "Epoch: [ 3/ 25], Step: [ 170/ 234], Loss: 0.5706\n",
            "Epoch: [ 3/ 25], Step: [ 180/ 234], Loss: 0.5563\n",
            "Epoch: [ 3/ 25], Step: [ 190/ 234], Loss: 0.5858\n",
            "Epoch: [ 3/ 25], Step: [ 200/ 234], Loss: 0.5886\n",
            "Epoch: [ 3/ 25], Step: [ 210/ 234], Loss: 0.5275\n",
            "Epoch: [ 3/ 25], Step: [ 220/ 234], Loss: 0.5650\n",
            "Epoch: [ 3/ 25], Step: [ 230/ 234], Loss: 0.6225\n",
            "Accuracy of the model on the 10000 test images: 81.2%\n",
            "Accuracy of the model on the 60000 train images: 80.8%\n",
            "Epoch: [ 4/ 25], Step: [ 10/ 234], Loss: 0.5670\n",
            "Epoch: [ 4/ 25], Step: [ 20/ 234], Loss: 0.5555\n",
            "Epoch: [ 4/ 25], Step: [ 30/ 234], Loss: 0.5141\n",
            "Epoch: [ 4/ 25], Step: [ 40/ 234], Loss: 0.5145\n",
            "Epoch: [ 4/ 25], Step: [ 50/ 234], Loss: 0.6105\n",
            "Epoch: [ 4/ 25], Step: [ 60/ 234], Loss: 0.5542\n",
            "Epoch: [ 4/ 25], Step: [ 70/ 234], Loss: 0.5463\n",
            "Epoch: [ 4/ 25], Step: [ 80/ 234], Loss: 0.6197\n",
            "Epoch: [ 4/ 25], Step: [ 90/ 234], Loss: 0.6569\n",
            "Epoch: [ 4/ 25], Step: [ 100/ 234], Loss: 0.4750\n",
            "Epoch: [ 4/ 25], Step: [ 110/ 234], Loss: 0.5874\n",
            "Epoch: [ 4/ 25], Step: [ 120/ 234], Loss: 0.5555\n",
            "Epoch: [ 4/ 25], Step: [ 130/ 234], Loss: 0.5472\n",
            "Epoch: [ 4/ 25], Step: [ 140/ 234], Loss: 0.6757\n",
            "Epoch: [ 4/ 25], Step: [ 150/ 234], Loss: 0.5748\n",
            "Epoch: [ 4/ 25], Step: [ 160/ 234], Loss: 0.6616\n",
            "Epoch: [ 4/ 25], Step: [ 170/ 234], Loss: 0.4183\n",
            "Epoch: [ 4/ 25], Step: [ 180/ 234], Loss: 0.5433\n",
            "Epoch: [ 4/ 25], Step: [ 190/ 234], Loss: 0.5292\n",
            "Epoch: [ 4/ 25], Step: [ 200/ 234], Loss: 0.5830\n",
            "Epoch: [ 4/ 25], Step: [ 210/ 234], Loss: 0.5652\n",
            "Epoch: [ 4/ 25], Step: [ 220/ 234], Loss: 0.5421\n",
            "Epoch: [ 4/ 25], Step: [ 230/ 234], Loss: 0.5379\n",
            "Accuracy of the model on the 10000 test images: 82.9%\n",
            "Accuracy of the model on the 60000 train images: 82.5%\n",
            "Epoch: [ 5/ 25], Step: [ 10/ 234], Loss: 0.5386\n",
            "Epoch: [ 5/ 25], Step: [ 20/ 234], Loss: 0.5315\n",
            "Epoch: [ 5/ 25], Step: [ 30/ 234], Loss: 0.4678\n",
            "Epoch: [ 5/ 25], Step: [ 40/ 234], Loss: 0.5082\n",
            "Epoch: [ 5/ 25], Step: [ 50/ 234], Loss: 0.5452\n",
            "Epoch: [ 5/ 25], Step: [ 60/ 234], Loss: 0.6152\n",
            "Epoch: [ 5/ 25], Step: [ 70/ 234], Loss: 0.5302\n",
            "Epoch: [ 5/ 25], Step: [ 80/ 234], Loss: 0.5572\n",
            "Epoch: [ 5/ 25], Step: [ 90/ 234], Loss: 0.6178\n",
            "Epoch: [ 5/ 25], Step: [ 100/ 234], Loss: 0.5035\n",
            "Epoch: [ 5/ 25], Step: [ 110/ 234], Loss: 0.4681\n",
            "Epoch: [ 5/ 25], Step: [ 120/ 234], Loss: 0.5550\n",
            "Epoch: [ 5/ 25], Step: [ 130/ 234], Loss: 0.6263\n",
            "Epoch: [ 5/ 25], Step: [ 140/ 234], Loss: 0.4887\n",
            "Epoch: [ 5/ 25], Step: [ 150/ 234], Loss: 0.6620\n",
            "Epoch: [ 5/ 25], Step: [ 160/ 234], Loss: 0.5042\n",
            "Epoch: [ 5/ 25], Step: [ 170/ 234], Loss: 0.4914\n",
            "Epoch: [ 5/ 25], Step: [ 180/ 234], Loss: 0.4535\n",
            "Epoch: [ 5/ 25], Step: [ 190/ 234], Loss: 0.4673\n",
            "Epoch: [ 5/ 25], Step: [ 200/ 234], Loss: 0.5407\n",
            "Epoch: [ 5/ 25], Step: [ 210/ 234], Loss: 0.5053\n",
            "Epoch: [ 5/ 25], Step: [ 220/ 234], Loss: 0.5577\n",
            "Epoch: [ 5/ 25], Step: [ 230/ 234], Loss: 0.4580\n",
            "Accuracy of the model on the 10000 test images: 83.7%\n",
            "Accuracy of the model on the 60000 train images: 83.5%\n",
            "Epoch: [ 6/ 25], Step: [ 10/ 234], Loss: 0.6221\n",
            "Epoch: [ 6/ 25], Step: [ 20/ 234], Loss: 0.5395\n",
            "Epoch: [ 6/ 25], Step: [ 30/ 234], Loss: 0.5525\n",
            "Epoch: [ 6/ 25], Step: [ 40/ 234], Loss: 0.5489\n",
            "Epoch: [ 6/ 25], Step: [ 50/ 234], Loss: 0.5336\n",
            "Epoch: [ 6/ 25], Step: [ 60/ 234], Loss: 0.5139\n",
            "Epoch: [ 6/ 25], Step: [ 70/ 234], Loss: 0.4007\n",
            "Epoch: [ 6/ 25], Step: [ 80/ 234], Loss: 0.3981\n",
            "Epoch: [ 6/ 25], Step: [ 90/ 234], Loss: 0.4423\n",
            "Epoch: [ 6/ 25], Step: [ 100/ 234], Loss: 0.5881\n",
            "Epoch: [ 6/ 25], Step: [ 110/ 234], Loss: 0.4494\n",
            "Epoch: [ 6/ 25], Step: [ 120/ 234], Loss: 0.4852\n",
            "Epoch: [ 6/ 25], Step: [ 130/ 234], Loss: 0.4640\n",
            "Epoch: [ 6/ 25], Step: [ 140/ 234], Loss: 0.5683\n",
            "Epoch: [ 6/ 25], Step: [ 150/ 234], Loss: 0.4705\n",
            "Epoch: [ 6/ 25], Step: [ 160/ 234], Loss: 0.4036\n",
            "Epoch: [ 6/ 25], Step: [ 170/ 234], Loss: 0.5069\n",
            "Epoch: [ 6/ 25], Step: [ 180/ 234], Loss: 0.4895\n",
            "Epoch: [ 6/ 25], Step: [ 190/ 234], Loss: 0.4425\n",
            "Epoch: [ 6/ 25], Step: [ 200/ 234], Loss: 0.3609\n",
            "Epoch: [ 6/ 25], Step: [ 210/ 234], Loss: 0.4237\n",
            "Epoch: [ 6/ 25], Step: [ 220/ 234], Loss: 0.4317\n",
            "Epoch: [ 6/ 25], Step: [ 230/ 234], Loss: 0.5417\n",
            "Accuracy of the model on the 10000 test images: 84.9%\n",
            "Accuracy of the model on the 60000 train images: 84.4%\n",
            "Epoch: [ 7/ 25], Step: [ 10/ 234], Loss: 0.4644\n",
            "Epoch: [ 7/ 25], Step: [ 20/ 234], Loss: 0.3559\n",
            "Epoch: [ 7/ 25], Step: [ 30/ 234], Loss: 0.4577\n",
            "Epoch: [ 7/ 25], Step: [ 40/ 234], Loss: 0.5193\n",
            "Epoch: [ 7/ 25], Step: [ 50/ 234], Loss: 0.5926\n",
            "Epoch: [ 7/ 25], Step: [ 60/ 234], Loss: 0.4355\n",
            "Epoch: [ 7/ 25], Step: [ 70/ 234], Loss: 0.4697\n",
            "Epoch: [ 7/ 25], Step: [ 80/ 234], Loss: 0.6110\n",
            "Epoch: [ 7/ 25], Step: [ 90/ 234], Loss: 0.4518\n",
            "Epoch: [ 7/ 25], Step: [ 100/ 234], Loss: 0.4188\n",
            "Epoch: [ 7/ 25], Step: [ 110/ 234], Loss: 0.5354\n",
            "Epoch: [ 7/ 25], Step: [ 120/ 234], Loss: 0.4152\n",
            "Epoch: [ 7/ 25], Step: [ 130/ 234], Loss: 0.4960\n",
            "Epoch: [ 7/ 25], Step: [ 140/ 234], Loss: 0.4768\n",
            "Epoch: [ 7/ 25], Step: [ 150/ 234], Loss: 0.4922\n",
            "Epoch: [ 7/ 25], Step: [ 160/ 234], Loss: 0.4405\n",
            "Epoch: [ 7/ 25], Step: [ 170/ 234], Loss: 0.3450\n",
            "Epoch: [ 7/ 25], Step: [ 180/ 234], Loss: 0.4338\n",
            "Epoch: [ 7/ 25], Step: [ 190/ 234], Loss: 0.4918\n",
            "Epoch: [ 7/ 25], Step: [ 200/ 234], Loss: 0.4414\n",
            "Epoch: [ 7/ 25], Step: [ 210/ 234], Loss: 0.3889\n",
            "Epoch: [ 7/ 25], Step: [ 220/ 234], Loss: 0.5388\n",
            "Epoch: [ 7/ 25], Step: [ 230/ 234], Loss: 0.4837\n",
            "Accuracy of the model on the 10000 test images: 85.8%\n",
            "Accuracy of the model on the 60000 train images: 85.1%\n",
            "Epoch: [ 8/ 25], Step: [ 10/ 234], Loss: 0.5009\n",
            "Epoch: [ 8/ 25], Step: [ 20/ 234], Loss: 0.4090\n",
            "Epoch: [ 8/ 25], Step: [ 30/ 234], Loss: 0.5532\n",
            "Epoch: [ 8/ 25], Step: [ 40/ 234], Loss: 0.4127\n",
            "Epoch: [ 8/ 25], Step: [ 50/ 234], Loss: 0.4465\n",
            "Epoch: [ 8/ 25], Step: [ 60/ 234], Loss: 0.4079\n",
            "Epoch: [ 8/ 25], Step: [ 70/ 234], Loss: 0.6097\n",
            "Epoch: [ 8/ 25], Step: [ 80/ 234], Loss: 0.5247\n",
            "Epoch: [ 8/ 25], Step: [ 90/ 234], Loss: 0.4021\n",
            "Epoch: [ 8/ 25], Step: [ 100/ 234], Loss: 0.4668\n",
            "Epoch: [ 8/ 25], Step: [ 110/ 234], Loss: 0.3374\n",
            "Epoch: [ 8/ 25], Step: [ 120/ 234], Loss: 0.4431\n",
            "Epoch: [ 8/ 25], Step: [ 130/ 234], Loss: 0.3917\n",
            "Epoch: [ 8/ 25], Step: [ 140/ 234], Loss: 0.3398\n",
            "Epoch: [ 8/ 25], Step: [ 150/ 234], Loss: 0.6145\n",
            "Epoch: [ 8/ 25], Step: [ 160/ 234], Loss: 0.4183\n",
            "Epoch: [ 8/ 25], Step: [ 170/ 234], Loss: 0.3740\n",
            "Epoch: [ 8/ 25], Step: [ 180/ 234], Loss: 0.5284\n",
            "Epoch: [ 8/ 25], Step: [ 190/ 234], Loss: 0.3769\n",
            "Epoch: [ 8/ 25], Step: [ 200/ 234], Loss: 0.3984\n",
            "Epoch: [ 8/ 25], Step: [ 210/ 234], Loss: 0.4181\n",
            "Epoch: [ 8/ 25], Step: [ 220/ 234], Loss: 0.5746\n",
            "Epoch: [ 8/ 25], Step: [ 230/ 234], Loss: 0.5619\n",
            "Accuracy of the model on the 10000 test images: 86.3%\n",
            "Accuracy of the model on the 60000 train images: 85.7%\n",
            "Epoch: [ 9/ 25], Step: [ 10/ 234], Loss: 0.4862\n",
            "Epoch: [ 9/ 25], Step: [ 20/ 234], Loss: 0.5034\n",
            "Epoch: [ 9/ 25], Step: [ 30/ 234], Loss: 0.3773\n",
            "Epoch: [ 9/ 25], Step: [ 40/ 234], Loss: 0.5690\n",
            "Epoch: [ 9/ 25], Step: [ 50/ 234], Loss: 0.3116\n",
            "Epoch: [ 9/ 25], Step: [ 60/ 234], Loss: 0.4884\n",
            "Epoch: [ 9/ 25], Step: [ 70/ 234], Loss: 0.5876\n",
            "Epoch: [ 9/ 25], Step: [ 80/ 234], Loss: 0.5739\n",
            "Epoch: [ 9/ 25], Step: [ 90/ 234], Loss: 0.4746\n",
            "Epoch: [ 9/ 25], Step: [ 100/ 234], Loss: 0.4373\n",
            "Epoch: [ 9/ 25], Step: [ 110/ 234], Loss: 0.4464\n",
            "Epoch: [ 9/ 25], Step: [ 120/ 234], Loss: 0.4618\n",
            "Epoch: [ 9/ 25], Step: [ 130/ 234], Loss: 0.3750\n",
            "Epoch: [ 9/ 25], Step: [ 140/ 234], Loss: 0.3737\n",
            "Epoch: [ 9/ 25], Step: [ 150/ 234], Loss: 0.3901\n",
            "Epoch: [ 9/ 25], Step: [ 160/ 234], Loss: 0.4053\n",
            "Epoch: [ 9/ 25], Step: [ 170/ 234], Loss: 0.4425\n",
            "Epoch: [ 9/ 25], Step: [ 180/ 234], Loss: 0.3610\n",
            "Epoch: [ 9/ 25], Step: [ 190/ 234], Loss: 0.4151\n",
            "Epoch: [ 9/ 25], Step: [ 200/ 234], Loss: 0.5984\n",
            "Epoch: [ 9/ 25], Step: [ 210/ 234], Loss: 0.4187\n",
            "Epoch: [ 9/ 25], Step: [ 220/ 234], Loss: 0.3942\n",
            "Epoch: [ 9/ 25], Step: [ 230/ 234], Loss: 0.5634\n",
            "Accuracy of the model on the 10000 test images: 87.2%\n",
            "Accuracy of the model on the 60000 train images: 86.7%\n",
            "Epoch: [ 10/ 25], Step: [ 10/ 234], Loss: 0.4421\n",
            "Epoch: [ 10/ 25], Step: [ 20/ 234], Loss: 0.3245\n",
            "Epoch: [ 10/ 25], Step: [ 30/ 234], Loss: 0.4700\n",
            "Epoch: [ 10/ 25], Step: [ 40/ 234], Loss: 0.4549\n",
            "Epoch: [ 10/ 25], Step: [ 50/ 234], Loss: 0.4225\n",
            "Epoch: [ 10/ 25], Step: [ 60/ 234], Loss: 0.4863\n",
            "Epoch: [ 10/ 25], Step: [ 70/ 234], Loss: 0.5146\n",
            "Epoch: [ 10/ 25], Step: [ 80/ 234], Loss: 0.4802\n",
            "Epoch: [ 10/ 25], Step: [ 90/ 234], Loss: 0.4208\n",
            "Epoch: [ 10/ 25], Step: [ 100/ 234], Loss: 0.4862\n",
            "Epoch: [ 10/ 25], Step: [ 110/ 234], Loss: 0.3925\n",
            "Epoch: [ 10/ 25], Step: [ 120/ 234], Loss: 0.5150\n",
            "Epoch: [ 10/ 25], Step: [ 130/ 234], Loss: 0.3509\n",
            "Epoch: [ 10/ 25], Step: [ 140/ 234], Loss: 0.3201\n",
            "Epoch: [ 10/ 25], Step: [ 150/ 234], Loss: 0.4186\n",
            "Epoch: [ 10/ 25], Step: [ 160/ 234], Loss: 0.3760\n",
            "Epoch: [ 10/ 25], Step: [ 170/ 234], Loss: 0.5059\n",
            "Epoch: [ 10/ 25], Step: [ 180/ 234], Loss: 0.3810\n",
            "Epoch: [ 10/ 25], Step: [ 190/ 234], Loss: 0.4581\n",
            "Epoch: [ 10/ 25], Step: [ 200/ 234], Loss: 0.3854\n",
            "Epoch: [ 10/ 25], Step: [ 210/ 234], Loss: 0.4022\n",
            "Epoch: [ 10/ 25], Step: [ 220/ 234], Loss: 0.3953\n",
            "Epoch: [ 10/ 25], Step: [ 230/ 234], Loss: 0.4782\n",
            "Accuracy of the model on the 10000 test images: 87.5%\n",
            "Accuracy of the model on the 60000 train images: 87.0%\n",
            "Epoch: [ 11/ 25], Step: [ 10/ 234], Loss: 0.4743\n",
            "Epoch: [ 11/ 25], Step: [ 20/ 234], Loss: 0.5928\n",
            "Epoch: [ 11/ 25], Step: [ 30/ 234], Loss: 0.3975\n",
            "Epoch: [ 11/ 25], Step: [ 40/ 234], Loss: 0.4136\n",
            "Epoch: [ 11/ 25], Step: [ 50/ 234], Loss: 0.4921\n",
            "Epoch: [ 11/ 25], Step: [ 60/ 234], Loss: 0.3669\n",
            "Epoch: [ 11/ 25], Step: [ 70/ 234], Loss: 0.4579\n",
            "Epoch: [ 11/ 25], Step: [ 80/ 234], Loss: 0.3107\n",
            "Epoch: [ 11/ 25], Step: [ 90/ 234], Loss: 0.3757\n",
            "Epoch: [ 11/ 25], Step: [ 100/ 234], Loss: 0.3324\n",
            "Epoch: [ 11/ 25], Step: [ 110/ 234], Loss: 0.4258\n",
            "Epoch: [ 11/ 25], Step: [ 120/ 234], Loss: 0.3391\n",
            "Epoch: [ 11/ 25], Step: [ 130/ 234], Loss: 0.4412\n",
            "Epoch: [ 11/ 25], Step: [ 140/ 234], Loss: 0.3375\n",
            "Epoch: [ 11/ 25], Step: [ 150/ 234], Loss: 0.3303\n",
            "Epoch: [ 11/ 25], Step: [ 160/ 234], Loss: 0.4781\n",
            "Epoch: [ 11/ 25], Step: [ 170/ 234], Loss: 0.4253\n",
            "Epoch: [ 11/ 25], Step: [ 180/ 234], Loss: 0.4123\n",
            "Epoch: [ 11/ 25], Step: [ 190/ 234], Loss: 0.3702\n",
            "Epoch: [ 11/ 25], Step: [ 200/ 234], Loss: 0.3683\n",
            "Epoch: [ 11/ 25], Step: [ 210/ 234], Loss: 0.4993\n",
            "Epoch: [ 11/ 25], Step: [ 220/ 234], Loss: 0.3425\n",
            "Epoch: [ 11/ 25], Step: [ 230/ 234], Loss: 0.3937\n",
            "Accuracy of the model on the 10000 test images: 88.1%\n",
            "Accuracy of the model on the 60000 train images: 87.5%\n",
            "Epoch: [ 12/ 25], Step: [ 10/ 234], Loss: 0.3437\n",
            "Epoch: [ 12/ 25], Step: [ 20/ 234], Loss: 0.4919\n",
            "Epoch: [ 12/ 25], Step: [ 30/ 234], Loss: 0.4508\n",
            "Epoch: [ 12/ 25], Step: [ 40/ 234], Loss: 0.3387\n",
            "Epoch: [ 12/ 25], Step: [ 50/ 234], Loss: 0.3930\n",
            "Epoch: [ 12/ 25], Step: [ 60/ 234], Loss: 0.4707\n",
            "Epoch: [ 12/ 25], Step: [ 70/ 234], Loss: 0.4688\n",
            "Epoch: [ 12/ 25], Step: [ 80/ 234], Loss: 0.4470\n",
            "Epoch: [ 12/ 25], Step: [ 90/ 234], Loss: 0.4673\n",
            "Epoch: [ 12/ 25], Step: [ 100/ 234], Loss: 0.3423\n",
            "Epoch: [ 12/ 25], Step: [ 110/ 234], Loss: 0.4351\n",
            "Epoch: [ 12/ 25], Step: [ 120/ 234], Loss: 0.3551\n",
            "Epoch: [ 12/ 25], Step: [ 130/ 234], Loss: 0.3378\n",
            "Epoch: [ 12/ 25], Step: [ 140/ 234], Loss: 0.3744\n",
            "Epoch: [ 12/ 25], Step: [ 150/ 234], Loss: 0.4091\n",
            "Epoch: [ 12/ 25], Step: [ 160/ 234], Loss: 0.3961\n",
            "Epoch: [ 12/ 25], Step: [ 170/ 234], Loss: 0.4051\n",
            "Epoch: [ 12/ 25], Step: [ 180/ 234], Loss: 0.3959\n",
            "Epoch: [ 12/ 25], Step: [ 190/ 234], Loss: 0.4248\n",
            "Epoch: [ 12/ 25], Step: [ 200/ 234], Loss: 0.3311\n",
            "Epoch: [ 12/ 25], Step: [ 210/ 234], Loss: 0.3690\n",
            "Epoch: [ 12/ 25], Step: [ 220/ 234], Loss: 0.3834\n",
            "Epoch: [ 12/ 25], Step: [ 230/ 234], Loss: 0.3785\n",
            "Accuracy of the model on the 10000 test images: 88.0%\n",
            "Accuracy of the model on the 60000 train images: 87.7%\n",
            "Epoch: [ 13/ 25], Step: [ 10/ 234], Loss: 0.5282\n",
            "Epoch: [ 13/ 25], Step: [ 20/ 234], Loss: 0.5024\n",
            "Epoch: [ 13/ 25], Step: [ 30/ 234], Loss: 0.4041\n",
            "Epoch: [ 13/ 25], Step: [ 40/ 234], Loss: 0.3465\n",
            "Epoch: [ 13/ 25], Step: [ 50/ 234], Loss: 0.3419\n",
            "Epoch: [ 13/ 25], Step: [ 60/ 234], Loss: 0.3738\n",
            "Epoch: [ 13/ 25], Step: [ 70/ 234], Loss: 0.3457\n",
            "Epoch: [ 13/ 25], Step: [ 80/ 234], Loss: 0.3636\n",
            "Epoch: [ 13/ 25], Step: [ 90/ 234], Loss: 0.3765\n",
            "Epoch: [ 13/ 25], Step: [ 100/ 234], Loss: 0.4710\n",
            "Epoch: [ 13/ 25], Step: [ 110/ 234], Loss: 0.3864\n",
            "Epoch: [ 13/ 25], Step: [ 120/ 234], Loss: 0.3139\n",
            "Epoch: [ 13/ 25], Step: [ 130/ 234], Loss: 0.2725\n",
            "Epoch: [ 13/ 25], Step: [ 140/ 234], Loss: 0.3291\n",
            "Epoch: [ 13/ 25], Step: [ 150/ 234], Loss: 0.3401\n",
            "Epoch: [ 13/ 25], Step: [ 160/ 234], Loss: 0.3957\n",
            "Epoch: [ 13/ 25], Step: [ 170/ 234], Loss: 0.3273\n",
            "Epoch: [ 13/ 25], Step: [ 180/ 234], Loss: 0.3950\n",
            "Epoch: [ 13/ 25], Step: [ 190/ 234], Loss: 0.3685\n",
            "Epoch: [ 13/ 25], Step: [ 200/ 234], Loss: 0.4396\n",
            "Epoch: [ 13/ 25], Step: [ 210/ 234], Loss: 0.4748\n",
            "Epoch: [ 13/ 25], Step: [ 220/ 234], Loss: 0.4259\n",
            "Epoch: [ 13/ 25], Step: [ 230/ 234], Loss: 0.3576\n",
            "Accuracy of the model on the 10000 test images: 88.5%\n",
            "Accuracy of the model on the 60000 train images: 88.0%\n",
            "Epoch: [ 14/ 25], Step: [ 10/ 234], Loss: 0.3621\n",
            "Epoch: [ 14/ 25], Step: [ 20/ 234], Loss: 0.3640\n",
            "Epoch: [ 14/ 25], Step: [ 30/ 234], Loss: 0.3891\n",
            "Epoch: [ 14/ 25], Step: [ 40/ 234], Loss: 0.3388\n",
            "Epoch: [ 14/ 25], Step: [ 50/ 234], Loss: 0.3354\n",
            "Epoch: [ 14/ 25], Step: [ 60/ 234], Loss: 0.3073\n",
            "Epoch: [ 14/ 25], Step: [ 70/ 234], Loss: 0.4556\n",
            "Epoch: [ 14/ 25], Step: [ 80/ 234], Loss: 0.3091\n",
            "Epoch: [ 14/ 25], Step: [ 90/ 234], Loss: 0.4450\n",
            "Epoch: [ 14/ 25], Step: [ 100/ 234], Loss: 0.3419\n",
            "Epoch: [ 14/ 25], Step: [ 110/ 234], Loss: 0.3486\n",
            "Epoch: [ 14/ 25], Step: [ 120/ 234], Loss: 0.3562\n",
            "Epoch: [ 14/ 25], Step: [ 130/ 234], Loss: 0.3779\n",
            "Epoch: [ 14/ 25], Step: [ 140/ 234], Loss: 0.3981\n",
            "Epoch: [ 14/ 25], Step: [ 150/ 234], Loss: 0.3953\n",
            "Epoch: [ 14/ 25], Step: [ 160/ 234], Loss: 0.3108\n",
            "Epoch: [ 14/ 25], Step: [ 170/ 234], Loss: 0.4325\n",
            "Epoch: [ 14/ 25], Step: [ 180/ 234], Loss: 0.3063\n",
            "Epoch: [ 14/ 25], Step: [ 190/ 234], Loss: 0.3089\n",
            "Epoch: [ 14/ 25], Step: [ 200/ 234], Loss: 0.3342\n",
            "Epoch: [ 14/ 25], Step: [ 210/ 234], Loss: 0.4239\n",
            "Epoch: [ 14/ 25], Step: [ 220/ 234], Loss: 0.3606\n",
            "Epoch: [ 14/ 25], Step: [ 230/ 234], Loss: 0.3295\n",
            "Accuracy of the model on the 10000 test images: 89.2%\n",
            "Accuracy of the model on the 60000 train images: 88.8%\n",
            "Epoch: [ 15/ 25], Step: [ 10/ 234], Loss: 0.3642\n",
            "Epoch: [ 15/ 25], Step: [ 20/ 234], Loss: 0.3431\n",
            "Epoch: [ 15/ 25], Step: [ 30/ 234], Loss: 0.3186\n",
            "Epoch: [ 15/ 25], Step: [ 40/ 234], Loss: 0.3919\n",
            "Epoch: [ 15/ 25], Step: [ 50/ 234], Loss: 0.3121\n",
            "Epoch: [ 15/ 25], Step: [ 60/ 234], Loss: 0.4077\n",
            "Epoch: [ 15/ 25], Step: [ 70/ 234], Loss: 0.3916\n",
            "Epoch: [ 15/ 25], Step: [ 80/ 234], Loss: 0.5390\n",
            "Epoch: [ 15/ 25], Step: [ 90/ 234], Loss: 0.3884\n",
            "Epoch: [ 15/ 25], Step: [ 100/ 234], Loss: 0.4064\n",
            "Epoch: [ 15/ 25], Step: [ 110/ 234], Loss: 0.3791\n",
            "Epoch: [ 15/ 25], Step: [ 120/ 234], Loss: 0.4439\n",
            "Epoch: [ 15/ 25], Step: [ 130/ 234], Loss: 0.3371\n",
            "Epoch: [ 15/ 25], Step: [ 140/ 234], Loss: 0.3694\n",
            "Epoch: [ 15/ 25], Step: [ 150/ 234], Loss: 0.2999\n",
            "Epoch: [ 15/ 25], Step: [ 160/ 234], Loss: 0.3043\n",
            "Epoch: [ 15/ 25], Step: [ 170/ 234], Loss: 0.3745\n",
            "Epoch: [ 15/ 25], Step: [ 180/ 234], Loss: 0.4024\n",
            "Epoch: [ 15/ 25], Step: [ 190/ 234], Loss: 0.3042\n",
            "Epoch: [ 15/ 25], Step: [ 200/ 234], Loss: 0.4022\n",
            "Epoch: [ 15/ 25], Step: [ 210/ 234], Loss: 0.2158\n",
            "Epoch: [ 15/ 25], Step: [ 220/ 234], Loss: 0.2402\n",
            "Epoch: [ 15/ 25], Step: [ 230/ 234], Loss: 0.3375\n",
            "Accuracy of the model on the 10000 test images: 89.3%\n",
            "Accuracy of the model on the 60000 train images: 89.0%\n",
            "Epoch: [ 16/ 25], Step: [ 10/ 234], Loss: 0.4307\n",
            "Epoch: [ 16/ 25], Step: [ 20/ 234], Loss: 0.3445\n",
            "Epoch: [ 16/ 25], Step: [ 30/ 234], Loss: 0.3825\n",
            "Epoch: [ 16/ 25], Step: [ 40/ 234], Loss: 0.3086\n",
            "Epoch: [ 16/ 25], Step: [ 50/ 234], Loss: 0.3559\n",
            "Epoch: [ 16/ 25], Step: [ 60/ 234], Loss: 0.3682\n",
            "Epoch: [ 16/ 25], Step: [ 70/ 234], Loss: 0.3900\n",
            "Epoch: [ 16/ 25], Step: [ 80/ 234], Loss: 0.3594\n",
            "Epoch: [ 16/ 25], Step: [ 90/ 234], Loss: 0.4456\n",
            "Epoch: [ 16/ 25], Step: [ 100/ 234], Loss: 0.3119\n",
            "Epoch: [ 16/ 25], Step: [ 110/ 234], Loss: 0.3853\n",
            "Epoch: [ 16/ 25], Step: [ 120/ 234], Loss: 0.2669\n",
            "Epoch: [ 16/ 25], Step: [ 130/ 234], Loss: 0.3170\n",
            "Epoch: [ 16/ 25], Step: [ 140/ 234], Loss: 0.3688\n",
            "Epoch: [ 16/ 25], Step: [ 150/ 234], Loss: 0.2946\n",
            "Epoch: [ 16/ 25], Step: [ 160/ 234], Loss: 0.4197\n",
            "Epoch: [ 16/ 25], Step: [ 170/ 234], Loss: 0.3322\n",
            "Epoch: [ 16/ 25], Step: [ 180/ 234], Loss: 0.3954\n",
            "Epoch: [ 16/ 25], Step: [ 190/ 234], Loss: 0.3629\n",
            "Epoch: [ 16/ 25], Step: [ 200/ 234], Loss: 0.4639\n",
            "Epoch: [ 16/ 25], Step: [ 210/ 234], Loss: 0.3761\n",
            "Epoch: [ 16/ 25], Step: [ 220/ 234], Loss: 0.3667\n",
            "Epoch: [ 16/ 25], Step: [ 230/ 234], Loss: 0.3567\n",
            "Accuracy of the model on the 10000 test images: 89.6%\n",
            "Accuracy of the model on the 60000 train images: 89.1%\n",
            "Epoch: [ 17/ 25], Step: [ 10/ 234], Loss: 0.3386\n",
            "Epoch: [ 17/ 25], Step: [ 20/ 234], Loss: 0.4597\n",
            "Epoch: [ 17/ 25], Step: [ 30/ 234], Loss: 0.3581\n",
            "Epoch: [ 17/ 25], Step: [ 40/ 234], Loss: 0.3880\n",
            "Epoch: [ 17/ 25], Step: [ 50/ 234], Loss: 0.4106\n",
            "Epoch: [ 17/ 25], Step: [ 60/ 234], Loss: 0.4154\n",
            "Epoch: [ 17/ 25], Step: [ 70/ 234], Loss: 0.3949\n",
            "Epoch: [ 17/ 25], Step: [ 80/ 234], Loss: 0.4761\n",
            "Epoch: [ 17/ 25], Step: [ 90/ 234], Loss: 0.2751\n",
            "Epoch: [ 17/ 25], Step: [ 100/ 234], Loss: 0.3731\n",
            "Epoch: [ 17/ 25], Step: [ 110/ 234], Loss: 0.4709\n",
            "Epoch: [ 17/ 25], Step: [ 120/ 234], Loss: 0.4262\n",
            "Epoch: [ 17/ 25], Step: [ 130/ 234], Loss: 0.3178\n",
            "Epoch: [ 17/ 25], Step: [ 140/ 234], Loss: 0.2796\n",
            "Epoch: [ 17/ 25], Step: [ 150/ 234], Loss: 0.3128\n",
            "Epoch: [ 17/ 25], Step: [ 160/ 234], Loss: 0.3518\n",
            "Epoch: [ 17/ 25], Step: [ 170/ 234], Loss: 0.3268\n",
            "Epoch: [ 17/ 25], Step: [ 180/ 234], Loss: 0.3329\n",
            "Epoch: [ 17/ 25], Step: [ 190/ 234], Loss: 0.3968\n",
            "Epoch: [ 17/ 25], Step: [ 200/ 234], Loss: 0.3383\n",
            "Epoch: [ 17/ 25], Step: [ 210/ 234], Loss: 0.3951\n",
            "Epoch: [ 17/ 25], Step: [ 220/ 234], Loss: 0.3438\n",
            "Epoch: [ 17/ 25], Step: [ 230/ 234], Loss: 0.3852\n",
            "Accuracy of the model on the 10000 test images: 89.7%\n",
            "Accuracy of the model on the 60000 train images: 89.3%\n",
            "Epoch: [ 18/ 25], Step: [ 10/ 234], Loss: 0.3132\n",
            "Epoch: [ 18/ 25], Step: [ 20/ 234], Loss: 0.3586\n",
            "Epoch: [ 18/ 25], Step: [ 30/ 234], Loss: 0.3380\n",
            "Epoch: [ 18/ 25], Step: [ 40/ 234], Loss: 0.3635\n",
            "Epoch: [ 18/ 25], Step: [ 50/ 234], Loss: 0.3904\n",
            "Epoch: [ 18/ 25], Step: [ 60/ 234], Loss: 0.3515\n",
            "Epoch: [ 18/ 25], Step: [ 70/ 234], Loss: 0.3537\n",
            "Epoch: [ 18/ 25], Step: [ 80/ 234], Loss: 0.3762\n",
            "Epoch: [ 18/ 25], Step: [ 90/ 234], Loss: 0.3253\n",
            "Epoch: [ 18/ 25], Step: [ 100/ 234], Loss: 0.3436\n",
            "Epoch: [ 18/ 25], Step: [ 110/ 234], Loss: 0.3103\n",
            "Epoch: [ 18/ 25], Step: [ 120/ 234], Loss: 0.3503\n",
            "Epoch: [ 18/ 25], Step: [ 130/ 234], Loss: 0.2812\n",
            "Epoch: [ 18/ 25], Step: [ 140/ 234], Loss: 0.3833\n",
            "Epoch: [ 18/ 25], Step: [ 150/ 234], Loss: 0.2879\n",
            "Epoch: [ 18/ 25], Step: [ 160/ 234], Loss: 0.4239\n",
            "Epoch: [ 18/ 25], Step: [ 170/ 234], Loss: 0.3982\n",
            "Epoch: [ 18/ 25], Step: [ 180/ 234], Loss: 0.3872\n",
            "Epoch: [ 18/ 25], Step: [ 190/ 234], Loss: 0.3325\n",
            "Epoch: [ 18/ 25], Step: [ 200/ 234], Loss: 0.3385\n",
            "Epoch: [ 18/ 25], Step: [ 210/ 234], Loss: 0.4017\n",
            "Epoch: [ 18/ 25], Step: [ 220/ 234], Loss: 0.3982\n",
            "Epoch: [ 18/ 25], Step: [ 230/ 234], Loss: 0.3471\n",
            "Accuracy of the model on the 10000 test images: 90.0%\n",
            "Accuracy of the model on the 60000 train images: 89.4%\n",
            "Epoch: [ 19/ 25], Step: [ 10/ 234], Loss: 0.3209\n",
            "Epoch: [ 19/ 25], Step: [ 20/ 234], Loss: 0.2817\n",
            "Epoch: [ 19/ 25], Step: [ 30/ 234], Loss: 0.3145\n",
            "Epoch: [ 19/ 25], Step: [ 40/ 234], Loss: 0.3895\n",
            "Epoch: [ 19/ 25], Step: [ 50/ 234], Loss: 0.4463\n",
            "Epoch: [ 19/ 25], Step: [ 60/ 234], Loss: 0.2565\n",
            "Epoch: [ 19/ 25], Step: [ 70/ 234], Loss: 0.3221\n",
            "Epoch: [ 19/ 25], Step: [ 80/ 234], Loss: 0.2916\n",
            "Epoch: [ 19/ 25], Step: [ 90/ 234], Loss: 0.3932\n",
            "Epoch: [ 19/ 25], Step: [ 100/ 234], Loss: 0.2648\n",
            "Epoch: [ 19/ 25], Step: [ 110/ 234], Loss: 0.3179\n",
            "Epoch: [ 19/ 25], Step: [ 120/ 234], Loss: 0.3470\n",
            "Epoch: [ 19/ 25], Step: [ 130/ 234], Loss: 0.3986\n",
            "Epoch: [ 19/ 25], Step: [ 140/ 234], Loss: 0.3899\n",
            "Epoch: [ 19/ 25], Step: [ 150/ 234], Loss: 0.3334\n",
            "Epoch: [ 19/ 25], Step: [ 160/ 234], Loss: 0.3323\n",
            "Epoch: [ 19/ 25], Step: [ 170/ 234], Loss: 0.3289\n",
            "Epoch: [ 19/ 25], Step: [ 180/ 234], Loss: 0.3398\n",
            "Epoch: [ 19/ 25], Step: [ 190/ 234], Loss: 0.3506\n",
            "Epoch: [ 19/ 25], Step: [ 200/ 234], Loss: 0.3212\n",
            "Epoch: [ 19/ 25], Step: [ 210/ 234], Loss: 0.3095\n",
            "Epoch: [ 19/ 25], Step: [ 220/ 234], Loss: 0.3085\n",
            "Epoch: [ 19/ 25], Step: [ 230/ 234], Loss: 0.3262\n",
            "Accuracy of the model on the 10000 test images: 89.8%\n",
            "Accuracy of the model on the 60000 train images: 89.5%\n",
            "Epoch: [ 20/ 25], Step: [ 10/ 234], Loss: 0.3259\n",
            "Epoch: [ 20/ 25], Step: [ 20/ 234], Loss: 0.2528\n",
            "Epoch: [ 20/ 25], Step: [ 30/ 234], Loss: 0.3145\n",
            "Epoch: [ 20/ 25], Step: [ 40/ 234], Loss: 0.4212\n",
            "Epoch: [ 20/ 25], Step: [ 50/ 234], Loss: 0.3503\n",
            "Epoch: [ 20/ 25], Step: [ 60/ 234], Loss: 0.3301\n",
            "Epoch: [ 20/ 25], Step: [ 70/ 234], Loss: 0.4579\n",
            "Epoch: [ 20/ 25], Step: [ 80/ 234], Loss: 0.4487\n",
            "Epoch: [ 20/ 25], Step: [ 90/ 234], Loss: 0.2814\n",
            "Epoch: [ 20/ 25], Step: [ 100/ 234], Loss: 0.3152\n",
            "Epoch: [ 20/ 25], Step: [ 110/ 234], Loss: 0.4018\n",
            "Epoch: [ 20/ 25], Step: [ 120/ 234], Loss: 0.3068\n",
            "Epoch: [ 20/ 25], Step: [ 130/ 234], Loss: 0.3026\n",
            "Epoch: [ 20/ 25], Step: [ 140/ 234], Loss: 0.3769\n",
            "Epoch: [ 20/ 25], Step: [ 150/ 234], Loss: 0.2235\n",
            "Epoch: [ 20/ 25], Step: [ 160/ 234], Loss: 0.4006\n",
            "Epoch: [ 20/ 25], Step: [ 170/ 234], Loss: 0.3907\n",
            "Epoch: [ 20/ 25], Step: [ 180/ 234], Loss: 0.2453\n",
            "Epoch: [ 20/ 25], Step: [ 190/ 234], Loss: 0.4133\n",
            "Epoch: [ 20/ 25], Step: [ 200/ 234], Loss: 0.3107\n",
            "Epoch: [ 20/ 25], Step: [ 210/ 234], Loss: 0.3958\n",
            "Epoch: [ 20/ 25], Step: [ 220/ 234], Loss: 0.3064\n",
            "Epoch: [ 20/ 25], Step: [ 230/ 234], Loss: 0.4241\n",
            "Accuracy of the model on the 10000 test images: 89.7%\n",
            "Accuracy of the model on the 60000 train images: 89.4%\n",
            "Epoch: [ 21/ 25], Step: [ 10/ 234], Loss: 0.3413\n",
            "Epoch: [ 21/ 25], Step: [ 20/ 234], Loss: 0.3074\n",
            "Epoch: [ 21/ 25], Step: [ 30/ 234], Loss: 0.2665\n",
            "Epoch: [ 21/ 25], Step: [ 40/ 234], Loss: 0.2666\n",
            "Epoch: [ 21/ 25], Step: [ 50/ 234], Loss: 0.3002\n",
            "Epoch: [ 21/ 25], Step: [ 60/ 234], Loss: 0.3620\n",
            "Epoch: [ 21/ 25], Step: [ 70/ 234], Loss: 0.4416\n",
            "Epoch: [ 21/ 25], Step: [ 80/ 234], Loss: 0.4902\n",
            "Epoch: [ 21/ 25], Step: [ 90/ 234], Loss: 0.3783\n",
            "Epoch: [ 21/ 25], Step: [ 100/ 234], Loss: 0.3095\n",
            "Epoch: [ 21/ 25], Step: [ 110/ 234], Loss: 0.2667\n",
            "Epoch: [ 21/ 25], Step: [ 120/ 234], Loss: 0.4136\n",
            "Epoch: [ 21/ 25], Step: [ 130/ 234], Loss: 0.3438\n",
            "Epoch: [ 21/ 25], Step: [ 140/ 234], Loss: 0.4170\n",
            "Epoch: [ 21/ 25], Step: [ 150/ 234], Loss: 0.2507\n",
            "Epoch: [ 21/ 25], Step: [ 160/ 234], Loss: 0.3092\n",
            "Epoch: [ 21/ 25], Step: [ 170/ 234], Loss: 0.4611\n",
            "Epoch: [ 21/ 25], Step: [ 180/ 234], Loss: 0.2263\n",
            "Epoch: [ 21/ 25], Step: [ 190/ 234], Loss: 0.4209\n",
            "Epoch: [ 21/ 25], Step: [ 200/ 234], Loss: 0.2209\n",
            "Epoch: [ 21/ 25], Step: [ 210/ 234], Loss: 0.3491\n",
            "Epoch: [ 21/ 25], Step: [ 220/ 234], Loss: 0.2659\n",
            "Epoch: [ 21/ 25], Step: [ 230/ 234], Loss: 0.2724\n",
            "Accuracy of the model on the 10000 test images: 90.6%\n",
            "Accuracy of the model on the 60000 train images: 90.0%\n",
            "Epoch: [ 22/ 25], Step: [ 10/ 234], Loss: 0.3144\n",
            "Epoch: [ 22/ 25], Step: [ 20/ 234], Loss: 0.4768\n",
            "Epoch: [ 22/ 25], Step: [ 30/ 234], Loss: 0.2900\n",
            "Epoch: [ 22/ 25], Step: [ 40/ 234], Loss: 0.4069\n",
            "Epoch: [ 22/ 25], Step: [ 50/ 234], Loss: 0.4123\n",
            "Epoch: [ 22/ 25], Step: [ 60/ 234], Loss: 0.2232\n",
            "Epoch: [ 22/ 25], Step: [ 70/ 234], Loss: 0.2673\n",
            "Epoch: [ 22/ 25], Step: [ 80/ 234], Loss: 0.3461\n",
            "Epoch: [ 22/ 25], Step: [ 90/ 234], Loss: 0.2898\n",
            "Epoch: [ 22/ 25], Step: [ 100/ 234], Loss: 0.3173\n",
            "Epoch: [ 22/ 25], Step: [ 110/ 234], Loss: 0.3783\n",
            "Epoch: [ 22/ 25], Step: [ 120/ 234], Loss: 0.2768\n",
            "Epoch: [ 22/ 25], Step: [ 130/ 234], Loss: 0.3381\n",
            "Epoch: [ 22/ 25], Step: [ 140/ 234], Loss: 0.4433\n",
            "Epoch: [ 22/ 25], Step: [ 150/ 234], Loss: 0.3319\n",
            "Epoch: [ 22/ 25], Step: [ 160/ 234], Loss: 0.3173\n",
            "Epoch: [ 22/ 25], Step: [ 170/ 234], Loss: 0.4070\n",
            "Epoch: [ 22/ 25], Step: [ 180/ 234], Loss: 0.2741\n",
            "Epoch: [ 22/ 25], Step: [ 190/ 234], Loss: 0.3681\n",
            "Epoch: [ 22/ 25], Step: [ 200/ 234], Loss: 0.2657\n",
            "Epoch: [ 22/ 25], Step: [ 210/ 234], Loss: 0.3257\n",
            "Epoch: [ 22/ 25], Step: [ 220/ 234], Loss: 0.2782\n",
            "Epoch: [ 22/ 25], Step: [ 230/ 234], Loss: 0.3467\n",
            "Accuracy of the model on the 10000 test images: 90.5%\n",
            "Accuracy of the model on the 60000 train images: 90.0%\n",
            "Epoch: [ 23/ 25], Step: [ 10/ 234], Loss: 0.3290\n",
            "Epoch: [ 23/ 25], Step: [ 20/ 234], Loss: 0.3023\n",
            "Epoch: [ 23/ 25], Step: [ 30/ 234], Loss: 0.3814\n",
            "Epoch: [ 23/ 25], Step: [ 40/ 234], Loss: 0.2973\n",
            "Epoch: [ 23/ 25], Step: [ 50/ 234], Loss: 0.3277\n",
            "Epoch: [ 23/ 25], Step: [ 60/ 234], Loss: 0.3233\n",
            "Epoch: [ 23/ 25], Step: [ 70/ 234], Loss: 0.3486\n",
            "Epoch: [ 23/ 25], Step: [ 80/ 234], Loss: 0.3768\n",
            "Epoch: [ 23/ 25], Step: [ 90/ 234], Loss: 0.3217\n",
            "Epoch: [ 23/ 25], Step: [ 100/ 234], Loss: 0.2700\n",
            "Epoch: [ 23/ 25], Step: [ 110/ 234], Loss: 0.4311\n",
            "Epoch: [ 23/ 25], Step: [ 120/ 234], Loss: 0.4132\n",
            "Epoch: [ 23/ 25], Step: [ 130/ 234], Loss: 0.3639\n",
            "Epoch: [ 23/ 25], Step: [ 140/ 234], Loss: 0.2780\n",
            "Epoch: [ 23/ 25], Step: [ 150/ 234], Loss: 0.2714\n",
            "Epoch: [ 23/ 25], Step: [ 160/ 234], Loss: 0.2906\n",
            "Epoch: [ 23/ 25], Step: [ 170/ 234], Loss: 0.2721\n",
            "Epoch: [ 23/ 25], Step: [ 180/ 234], Loss: 0.3900\n",
            "Epoch: [ 23/ 25], Step: [ 190/ 234], Loss: 0.2681\n",
            "Epoch: [ 23/ 25], Step: [ 200/ 234], Loss: 0.3721\n",
            "Epoch: [ 23/ 25], Step: [ 210/ 234], Loss: 0.3024\n",
            "Epoch: [ 23/ 25], Step: [ 220/ 234], Loss: 0.3512\n",
            "Epoch: [ 23/ 25], Step: [ 230/ 234], Loss: 0.3990\n",
            "Accuracy of the model on the 10000 test images: 90.6%\n",
            "Accuracy of the model on the 60000 train images: 90.5%\n",
            "Epoch: [ 24/ 25], Step: [ 10/ 234], Loss: 0.2985\n",
            "Epoch: [ 24/ 25], Step: [ 20/ 234], Loss: 0.2987\n",
            "Epoch: [ 24/ 25], Step: [ 30/ 234], Loss: 0.3017\n",
            "Epoch: [ 24/ 25], Step: [ 40/ 234], Loss: 0.3112\n",
            "Epoch: [ 24/ 25], Step: [ 50/ 234], Loss: 0.3478\n",
            "Epoch: [ 24/ 25], Step: [ 60/ 234], Loss: 0.3064\n",
            "Epoch: [ 24/ 25], Step: [ 70/ 234], Loss: 0.4567\n",
            "Epoch: [ 24/ 25], Step: [ 80/ 234], Loss: 0.3128\n",
            "Epoch: [ 24/ 25], Step: [ 90/ 234], Loss: 0.3722\n",
            "Epoch: [ 24/ 25], Step: [ 100/ 234], Loss: 0.3221\n",
            "Epoch: [ 24/ 25], Step: [ 110/ 234], Loss: 0.3060\n",
            "Epoch: [ 24/ 25], Step: [ 120/ 234], Loss: 0.2310\n",
            "Epoch: [ 24/ 25], Step: [ 130/ 234], Loss: 0.2830\n",
            "Epoch: [ 24/ 25], Step: [ 140/ 234], Loss: 0.2971\n",
            "Epoch: [ 24/ 25], Step: [ 150/ 234], Loss: 0.3710\n",
            "Epoch: [ 24/ 25], Step: [ 160/ 234], Loss: 0.2975\n",
            "Epoch: [ 24/ 25], Step: [ 170/ 234], Loss: 0.2951\n",
            "Epoch: [ 24/ 25], Step: [ 180/ 234], Loss: 0.3240\n",
            "Epoch: [ 24/ 25], Step: [ 190/ 234], Loss: 0.3223\n",
            "Epoch: [ 24/ 25], Step: [ 200/ 234], Loss: 0.3147\n",
            "Epoch: [ 24/ 25], Step: [ 210/ 234], Loss: 0.2867\n",
            "Epoch: [ 24/ 25], Step: [ 220/ 234], Loss: 0.3527\n",
            "Epoch: [ 24/ 25], Step: [ 230/ 234], Loss: 0.3122\n",
            "Accuracy of the model on the 10000 test images: 90.8%\n",
            "Accuracy of the model on the 60000 train images: 90.5%\n",
            "Epoch: [ 25/ 25], Step: [ 10/ 234], Loss: 0.3481\n",
            "Epoch: [ 25/ 25], Step: [ 20/ 234], Loss: 0.3969\n",
            "Epoch: [ 25/ 25], Step: [ 30/ 234], Loss: 0.3870\n",
            "Epoch: [ 25/ 25], Step: [ 40/ 234], Loss: 0.3419\n",
            "Epoch: [ 25/ 25], Step: [ 50/ 234], Loss: 0.3836\n",
            "Epoch: [ 25/ 25], Step: [ 60/ 234], Loss: 0.3151\n",
            "Epoch: [ 25/ 25], Step: [ 70/ 234], Loss: 0.2569\n",
            "Epoch: [ 25/ 25], Step: [ 80/ 234], Loss: 0.3064\n",
            "Epoch: [ 25/ 25], Step: [ 90/ 234], Loss: 0.2614\n",
            "Epoch: [ 25/ 25], Step: [ 100/ 234], Loss: 0.3026\n",
            "Epoch: [ 25/ 25], Step: [ 110/ 234], Loss: 0.2871\n",
            "Epoch: [ 25/ 25], Step: [ 120/ 234], Loss: 0.2778\n",
            "Epoch: [ 25/ 25], Step: [ 130/ 234], Loss: 0.2870\n",
            "Epoch: [ 25/ 25], Step: [ 140/ 234], Loss: 0.2509\n",
            "Epoch: [ 25/ 25], Step: [ 150/ 234], Loss: 0.3664\n",
            "Epoch: [ 25/ 25], Step: [ 160/ 234], Loss: 0.3655\n",
            "Epoch: [ 25/ 25], Step: [ 170/ 234], Loss: 0.2898\n",
            "Epoch: [ 25/ 25], Step: [ 180/ 234], Loss: 0.3160\n",
            "Epoch: [ 25/ 25], Step: [ 190/ 234], Loss: 0.4484\n",
            "Epoch: [ 25/ 25], Step: [ 200/ 234], Loss: 0.3508\n",
            "Epoch: [ 25/ 25], Step: [ 210/ 234], Loss: 0.3466\n",
            "Epoch: [ 25/ 25], Step: [ 220/ 234], Loss: 0.2738\n",
            "Epoch: [ 25/ 25], Step: [ 230/ 234], Loss: 0.2461\n",
            "Accuracy of the model on the 10000 test images: 90.9%\n",
            "Accuracy of the model on the 60000 train images: 90.5%\n"
          ],
          "name": "stdout"
        }
      ]
    },
    {
      "cell_type": "code",
      "metadata": {
        "id": "rkMFnVY1CNFZ",
        "colab_type": "code",
        "colab": {
          "base_uri": "https://localhost:8080/",
          "height": 301
        },
        "outputId": "600bcf77-f55d-4a89-8d49-a5c32167a6f8"
      },
      "source": [
        "epochs = np.arange(num_epochs)\n",
        "\n",
        "plt.plot(epochs, acc_train, label='Training Error')\n",
        "plt.plot(epochs, acc_test, label='Testing Error')\n",
        "plt.xlabel('Error - training & testing')\n",
        "plt.ylabel('Number of Epochs')\n",
        "plt.legend()"
      ],
      "execution_count": 91,
      "outputs": [
        {
          "output_type": "execute_result",
          "data": {
            "text/plain": [
              "<matplotlib.legend.Legend at 0x7effa486f208>"
            ]
          },
          "metadata": {
            "tags": []
          },
          "execution_count": 91
        },
        {
          "output_type": "display_data",
          "data": {
            "image/png": "[encoded data removed]",
            "text/plain": [
              "<Figure size 432x288 with 1 Axes>"
            ]
          },
          "metadata": {
            "tags": []
          }
        }
      ]
    },
    {
      "cell_type": "code",
      "metadata": {
        "id": "7EaxbZDRYVV7",
        "colab_type": "code",
        "colab": {
          "base_uri": "https://localhost:8080/",
          "height": 301
        },
        "outputId": "70e2be24-6e8e-4b6a-bbd7-cb46c4f8820f"
      },
      "source": [
        "epochs = np.arange(num_epochs)\n",
        "\n",
        "plt.plot(epochs, acc_train, label='Training Error')\n",
        "plt.plot(epochs, acc_test, label='Testing Error')\n",
        "plt.xlabel('Error - training & testing')\n",
        "plt.ylabel('Number of Epochs')\n",
        "plt.legend()"
      ],
      "execution_count": 104,
      "outputs": [
        {
          "output_type": "execute_result",
          "data": {
            "text/plain": [
              "<matplotlib.legend.Legend at 0x7effa48260b8>"
            ]
          },
          "metadata": {
            "tags": []
          },
          "execution_count": 104
        },
        {
          "output_type": "display_data",
          "data": {
            "image/png": "[encoded data removed]",
            "text/plain": [
              "<Figure size 432x288 with 1 Axes>"
            ]
          },
          "metadata": {
            "tags": []
          }
        }
      ]
    },
    {
      "cell_type": "markdown",
      "metadata": {
        "id": "s6rCb13kShUI",
        "colab_type": "text"
      },
      "source": [
        "<b>Problem 5(b):</b> Write new code to perform *6-fold* cross validation on this model.\n",
        "1.  Create a function called ```create_train_val_split()``` that will take a fold number and return an appropriate training set loader and validation set loader (```train_loader, val_loader```) .  It will be used in a loop that will loop over ```range(num_folds)``` to cross validate the model.  It should use contiguous sampling (use ```SequentialSampler```).  Test that it works as expected and show your code.\n",
        "2.  Modify main to create the 6-fold validation loop.  In the loop, you will assign the training and validation loaders, train the model <b>from scratch</b>, and compute the average validation loss over all 6 folds.  You may use the ```epoch_loader()``` function supplied to compute the loss (E_in) on the various data splits.  Test that your code works as expected and show your code.\n",
        "3.  Set the filter hyperparameter ```v = 1``` and report the average validation error (for all 6 folds) below.  Report the error after training for 10 epochs per fold."
      ]
    },
    {
      "cell_type": "code",
      "metadata": {
        "id": "fejpOebiPw8o",
        "colab_type": "code",
        "colab": {}
      },
      "source": [
        "# Your code for create_train_val_split()\n",
        "def create_train_val_split(fold_num):\n",
        "    ...\n",
        "    return train_loader, val_loader"
      ],
      "execution_count": 0,
      "outputs": []
    },
    {
      "cell_type": "code",
      "metadata": {
        "id": "UgeixeEWQEXa",
        "colab_type": "code",
        "colab": {}
      },
      "source": [
        "# Your main modified for cross validation\n",
        "def main():\n",
        "    global train_loader\n",
        "    run_training()"
      ],
      "execution_count": 0,
      "outputs": []
    },
    {
      "cell_type": "code",
      "metadata": {
        "id": "VYLg_L0ObC9t",
        "colab_type": "code",
        "colab": {}
      },
      "source": [
        "if __name__=='__main__':\n",
        "    main()"
      ],
      "execution_count": 0,
      "outputs": []
    },
    {
      "cell_type": "code",
      "metadata": {
        "id": "70NPwkH5DoPr",
        "colab_type": "code",
        "colab": {}
      },
      "source": [
        "# Report your average validation error for all 6 folds here."
      ],
      "execution_count": 0,
      "outputs": []
    },
    {
      "cell_type": "markdown",
      "metadata": {
        "id": "ZAKF6WNncC9D",
        "colab_type": "text"
      },
      "source": [
        "<b>Problem 5(c): </b> Now use cross validation to perform *model selection*.  Select the best integer value for hyperparameter ```v``` from ```v = [0, 1, 2, 3, 4].```   Select the value based on the one that results in the lowest total cross validation error after 10 epochs of training.\n",
        "1.  What are the cross validation errors for these five values of ```v```?  What is the best value for ```v```?   What are the corresponding validation accuracies?\n",
        "2.  Using your best ```v``` value, retrain the model on <b>all</b> training data and report the test error and accuracy.  Is the test error lower or higher than the validation error?  Is the test accuracy lower or higher.  Is this expected?  Explain your answer."
      ]
    },
    {
      "cell_type": "code",
      "metadata": {
        "id": "xTWX-XiSdgcQ",
        "colab_type": "code",
        "colab": {}
      },
      "source": [
        "# Your cross validation errors for the five values of v and best v"
      ],
      "execution_count": 0,
      "outputs": []
    },
    {
      "cell_type": "code",
      "metadata": {
        "id": "xrRPnM6NdmEO",
        "colab_type": "code",
        "colab": {}
      },
      "source": [
        "# Your test error and accuracy"
      ],
      "execution_count": 0,
      "outputs": []
    },
    {
      "cell_type": "markdown",
      "metadata": {
        "id": "aWjUIdRv_eck",
        "colab_type": "text"
      },
      "source": [
        "Copyright (c) 2019 Ted Willke"
      ]
    }
  ]
}